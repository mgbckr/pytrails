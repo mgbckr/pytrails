{
 "cells": [
  {
   "cell_type": "markdown",
   "metadata": {
    "collapsed": true
   },
   "source": [
    "#Quickstart"
   ]
  },
  {
   "cell_type": "markdown",
   "metadata": {},
   "source": [
    "## Install\n",
    "```\n",
    "# install via pip\n",
    "# requires python 3; tested for python 3.4 and up\n",
    "pip install pytrails \n",
    "```"
   ]
  },
  {
   "cell_type": "markdown",
   "metadata": {},
   "source": [
    "# Example"
   ]
  },
  {
   "cell_type": "markdown",
   "metadata": {},
   "source": [
    "Let's assume, we have observed a sequence of rainy and sunny days.\n",
    "To explain what we have observed, we have two hypotheses:\n",
    "\n",
    "* `sticky`: when it is sunny it stays sunny, and when it rains it stays rainy\n",
    "* `random`: the weather is totally random\n",
    "\n",
    "We want to test, which one of these hypotheses is more plausible given our observations.\n",
    "To this end we use [HypTrails as introduced by Singer et al. in 2015](http://www.www2015.it/documents/proceedings/proceedings/p1003.pdf).\n",
    "\n",
    "In particular, we \n",
    "* first we calculate transition counts between states\n",
    "* define hypotheses as transition probability matrices\n",
    "* calculate the evidence for each hypothesis using a set of increasing concentration factors\n"
   ]
  },
  {
   "cell_type": "code",
   "execution_count": 1,
   "metadata": {},
   "outputs": [
    {
     "data": {
      "image/png": "[encoded data removed]",
      "text/plain": [
       "<matplotlib.figure.Figure at 0x7fcdaf801128>"
      ]
     },
     "metadata": {},
     "output_type": "display_data"
    }
   ],
   "source": [
    "import numpy as np\n",
    "from scipy.sparse import csr_matrix \n",
    "from pytrails.hyptrails import MarkovChain\n",
    "import matplotlib.pyplot as plt\n",
    "\n",
    "# sequence of observations (0 = rainy, 1 = sunny)\n",
    "observations = [0, 1, 0, 0, 1, 0, 0, 1, 1]\n",
    "\n",
    "########\n",
    "# calculate transition counts between states\n",
    "########\n",
    "transition_counts = np.zeros((2, 2))\n",
    "for i in range(len(observations) - 1):\n",
    "    transition_counts[observations[i], observations[i+1]] += 1\n",
    "transition_counts = csr_matrix(transition_counts)\n",
    "\n",
    "########\n",
    "# define hypotheses as transition probability matrices\n",
    "########\n",
    "hyp_sticky = csr_matrix([\n",
    "    [1.0, 0.0],\n",
    "    [0.0, 1.0]])\n",
    "    \n",
    "hyp_random = csr_matrix([\n",
    "    [0.5, 0.5],\n",
    "    [0.5, 0.5]])\n",
    "\n",
    "########\n",
    "# calculate the evidence for each hypothesis using a set of increasing concentration factors:\n",
    "########\n",
    "\n",
    "concentration_factors = np.array([0, 1, 2, 3, 4, 5])\n",
    "\n",
    "# scale concentration factors by number of states\n",
    "concentration_factors = concentration_factors * transition_counts.shape[0]\n",
    "\n",
    "# calculate evidences\n",
    "evidence_sticky = [MarkovChain.marginal_likelihood(transition_counts, hyp_sticky * c) for c in concentration_factors]\n",
    "evidence_random = [MarkovChain.marginal_likelihood(transition_counts, hyp_random * c) for c in concentration_factors]\n",
    "\n",
    "########\n",
    "# plot the results:\n",
    "########\n",
    "\n",
    "plt.plot(concentration_factors, evidence_sticky, 'rs--', label=\"sticky\")\n",
    "plt.plot(concentration_factors, evidence_random, 'bs--', label=\"random\")\n",
    "plt.legend()\n",
    "plt.show()"
   ]
  },
  {
   "cell_type": "markdown",
   "metadata": {},
   "source": [
    "When comparing our results, we see that, our `random` hypothesis results in\n",
    "higher evidence values (i.e., marginal likelihood). \n",
    "**That is, assuming random weather explains our observations \n",
    "better than believing in sticky conditions.**"
   ]
  },
  {
   "cell_type": "code",
   "execution_count": null,
   "metadata": {},
   "outputs": [],
   "source": []
  }
 ],
 "metadata": {
  "kernelspec": {
   "display_name": "Python 2",
   "language": "python",
   "name": "python2"
  },
  "language_info": {
   "codemirror_mode": {
    "name": "ipython",
    "version": 2
   },
   "file_extension": ".py",
   "mimetype": "text/x-python",
   "name": "python",
   "nbconvert_exporter": "python",
   "pygments_lexer": "ipython2",
   "version": "2.7.6"
  }
 },
 "nbformat": 4,
 "nbformat_minor": 0
}
